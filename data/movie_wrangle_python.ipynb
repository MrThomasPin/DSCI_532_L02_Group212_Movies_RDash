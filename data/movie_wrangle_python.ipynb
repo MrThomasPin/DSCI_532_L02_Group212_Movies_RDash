{
 "cells": [
  {
   "cell_type": "code",
   "execution_count": 4,
   "metadata": {},
   "outputs": [],
   "source": [
    "# Load packages\n",
    "\n",
    "import pandas as pd\n",
    "import numpy as np\n",
    "from vega_datasets import data\n",
    "import pandas_profiling"
   ]
  },
  {
   "cell_type": "code",
   "execution_count": 5,
   "metadata": {},
   "outputs": [],
   "source": [
    "url = \"https://raw.githubusercontent.com/vega/vega-datasets/master/data/movies.json\"\n",
    "\n",
    "df = pd.read_json(url)"
   ]
  },
  {
   "cell_type": "code",
   "execution_count": 6,
   "metadata": {},
   "outputs": [
    {
     "data": {
      "text/html": [
       "<div>\n",
       "<style scoped>\n",
       "    .dataframe tbody tr th:only-of-type {\n",
       "        vertical-align: middle;\n",
       "    }\n",
       "\n",
       "    .dataframe tbody tr th {\n",
       "        vertical-align: top;\n",
       "    }\n",
       "\n",
       "    .dataframe thead th {\n",
       "        text-align: right;\n",
       "    }\n",
       "</style>\n",
       "<table border=\"1\" class=\"dataframe\">\n",
       "  <thead>\n",
       "    <tr style=\"text-align: right;\">\n",
       "      <th></th>\n",
       "      <th>Title</th>\n",
       "      <th>US_Gross</th>\n",
       "      <th>Worldwide_Gross</th>\n",
       "      <th>US_DVD_Sales</th>\n",
       "      <th>Production_Budget</th>\n",
       "      <th>Release_Date</th>\n",
       "      <th>MPAA_Rating</th>\n",
       "      <th>Running_Time_min</th>\n",
       "      <th>Distributor</th>\n",
       "      <th>Source</th>\n",
       "      <th>Major_Genre</th>\n",
       "      <th>Creative_Type</th>\n",
       "      <th>Director</th>\n",
       "      <th>Rotten_Tomatoes_Rating</th>\n",
       "      <th>IMDB_Rating</th>\n",
       "      <th>IMDB_Votes</th>\n",
       "    </tr>\n",
       "  </thead>\n",
       "  <tbody>\n",
       "    <tr>\n",
       "      <th>0</th>\n",
       "      <td>The Land Girls</td>\n",
       "      <td>146083.0</td>\n",
       "      <td>146083.0</td>\n",
       "      <td>NaN</td>\n",
       "      <td>8000000.0</td>\n",
       "      <td>Jun 12 1998</td>\n",
       "      <td>R</td>\n",
       "      <td>NaN</td>\n",
       "      <td>Gramercy</td>\n",
       "      <td>None</td>\n",
       "      <td>None</td>\n",
       "      <td>None</td>\n",
       "      <td>None</td>\n",
       "      <td>NaN</td>\n",
       "      <td>6.1</td>\n",
       "      <td>1071.0</td>\n",
       "    </tr>\n",
       "  </tbody>\n",
       "</table>\n",
       "</div>"
      ],
      "text/plain": [
       "            Title  US_Gross  Worldwide_Gross  US_DVD_Sales  Production_Budget  \\\n",
       "0  The Land Girls  146083.0         146083.0           NaN          8000000.0   \n",
       "\n",
       "  Release_Date MPAA_Rating  Running_Time_min Distributor Source Major_Genre  \\\n",
       "0  Jun 12 1998           R               NaN    Gramercy   None        None   \n",
       "\n",
       "  Creative_Type Director  Rotten_Tomatoes_Rating  IMDB_Rating  IMDB_Votes  \n",
       "0          None     None                     NaN          6.1      1071.0  "
      ]
     },
     "execution_count": 6,
     "metadata": {},
     "output_type": "execute_result"
    }
   ],
   "source": [
    "df.head(1)"
   ]
  },
  {
   "cell_type": "code",
   "execution_count": 7,
   "metadata": {},
   "outputs": [],
   "source": [
    "df.to_csv(r'movies_data_raw.csv')"
   ]
  },
  {
   "cell_type": "code",
   "execution_count": 8,
   "metadata": {},
   "outputs": [
    {
     "name": "stderr",
     "output_type": "stream",
     "text": [
      "//anaconda3/lib/python3.7/site-packages/ipykernel_launcher.py:27: SettingWithCopyWarning: \n",
      "A value is trying to be set on a copy of a slice from a DataFrame.\n",
      "Try using .loc[row_indexer,col_indexer] = value instead\n",
      "\n",
      "See the caveats in the documentation: http://pandas.pydata.org/pandas-docs/stable/user_guide/indexing.html#returning-a-view-versus-a-copy\n"
     ]
    }
   ],
   "source": [
    "df['Release_Year'] = pd.to_datetime(df['Release_Date'], format = '%b %d %Y').dt.year\n",
    "\n",
    "df_raw_select = df[[\"Title\", \"US_Gross\",\"Worldwide_Gross\", \"Production_Budget\", \"Distributor\", \"Release_Year\"]]\n",
    "\n",
    "df_raw_select = df_raw_select.dropna()\n",
    "\n",
    "df_raw_select = df_raw_select.query(\"Release_Year <= 2010\")\n",
    "\n",
    "df_raw_select = df_raw_select.query(\"Release_Year >= 1980\")\n",
    "\n",
    "PB10quantile = df_raw_select[\"Production_Budget\"].quantile(.05)\n",
    "\n",
    "df_raw_select = df_raw_select.query(\"Production_Budget >= @PB10quantile\")\n",
    "\n",
    "USG01quantile = df_raw_select[\"US_Gross\"].quantile(.01)\n",
    "\n",
    "df_raw_select = df_raw_select.query(\"US_Gross >= @USG01quantile\")\n",
    "\n",
    "\n",
    "df_raw_select = df_raw_select.query(\"Title != None\")\n",
    "\n",
    "df_raw_select = df_raw_select.query(\"Distributor != None\")\n",
    "\n",
    "my_dist = [\"20th Century Fox\", \"MGM\", \"Warner Bros.\", \"Sony Pictures\", \"Paramount Pictures\", \"Walt Disney Pictures\", \"Universal\", \"Sony Pictures Classics\", \"Sony/Columbia\", \"Miramax\", \"Lionsgate\", \"Dreamworks SKG\"]\n",
    "df_clean_select_dist = df_raw_select[df_raw_select.Distributor.isin(my_dist)]\n",
    "\n",
    "df_clean_select_dist[\"Profit\"] = df_clean_select_dist[\"US_Gross\"] - df_clean_select_dist[\"Production_Budget\"]\n",
    "\n",
    "\n",
    "df_clean = df_raw_select"
   ]
  },
  {
   "cell_type": "code",
   "execution_count": 10,
   "metadata": {},
   "outputs": [],
   "source": [
    "df_clean.to_csv(r\"movies_clean_data_python.csv\")"
   ]
  },
  {
   "cell_type": "code",
   "execution_count": null,
   "metadata": {},
   "outputs": [],
   "source": []
  }
 ],
 "metadata": {
  "kernelspec": {
   "display_name": "Python 3",
   "language": "python",
   "name": "python3"
  },
  "language_info": {
   "codemirror_mode": {
    "name": "ipython",
    "version": 3
   },
   "file_extension": ".py",
   "mimetype": "text/x-python",
   "name": "python",
   "nbconvert_exporter": "python",
   "pygments_lexer": "ipython3",
   "version": "3.7.3"
  }
 },
 "nbformat": 4,
 "nbformat_minor": 4
}
